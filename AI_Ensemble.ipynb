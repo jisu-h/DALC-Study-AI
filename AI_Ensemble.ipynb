{
  "nbformat": 4,
  "nbformat_minor": 0,
  "metadata": {
    "kernelspec": {
      "display_name": "Python 3",
      "language": "python",
      "name": "python3"
    },
    "language_info": {
      "codemirror_mode": {
        "name": "ipython",
        "version": 3
      },
      "file_extension": ".py",
      "mimetype": "text/x-python",
      "name": "python",
      "nbconvert_exporter": "python",
      "pygments_lexer": "ipython3",
      "version": "3.6.5"
    },
    "colab": {
      "name": "AI_Ensemble.ipynb",
      "provenance": [],
      "include_colab_link": true
    }
  },
  "cells": [
    {
      "cell_type": "markdown",
      "metadata": {
        "id": "view-in-github",
        "colab_type": "text"
      },
      "source": [
        "<a href=\"https://colab.research.google.com/github/jisu-h/DALC-Study-AI/blob/main/AI_Ensemble.ipynb\" target=\"_parent\"><img src=\"https://colab.research.google.com/assets/colab-badge.svg\" alt=\"Open In Colab\"/></a>"
      ]
    },
    {
      "cell_type": "markdown",
      "metadata": {
        "id": "JI-HTVlhvOaV"
      },
      "source": [
        "## 앙상블(Ensemble)"
      ]
    },
    {
      "cell_type": "markdown",
      "metadata": {
        "id": "D6UttG4UvOar"
      },
      "source": [
        "## Bagging meta-estimator\n",
        "    * bagging은 bootstrap aggregating의 줄임말\n",
        "    * 원래 훈련 데이터셋의 일부를 사용해 여러 모델을 훈련\n",
        "    * 각각의 결과를 결합해 최종 결과를 생성\n",
        "    * 분산을 줄이고 과적합을 막음\n",
        "    * 강력하고 복잡한 모델에서 잘 동작"
      ]
    },
    {
      "cell_type": "markdown",
      "metadata": {
        "id": "FiseI4N3vOau"
      },
      "source": [
        "### 필요한 데이터 셋"
      ]
    },
    {
      "cell_type": "code",
      "metadata": {
        "id": "U6t5_qTEvOaw"
      },
      "source": [
        "from sklearn.datasets import load_iris, load_wine, load_breast_cancer\n",
        "from sklearn.datasets import load_boston, load_diabetes\n",
        "from sklearn.preprocessing import StandardScaler\n",
        "from sklearn.pipeline import make_pipeline\n",
        "from sklearn.model_selection import cross_validate"
      ],
      "execution_count": 1,
      "outputs": []
    },
    {
      "cell_type": "markdown",
      "metadata": {
        "id": "2grVNLDGvOay"
      },
      "source": [
        "### 분류 모델"
      ]
    },
    {
      "cell_type": "code",
      "metadata": {
        "id": "GQrRLt5SvOay"
      },
      "source": [
        "from sklearn.ensemble import BaggingClassifier\n",
        "from sklearn.neighbors import KNeighborsClassifier\n",
        "from sklearn.svm import SVC\n",
        "from sklearn.tree import DecisionTreeClassifier"
      ],
      "execution_count": 2,
      "outputs": []
    },
    {
      "cell_type": "code",
      "metadata": {
        "id": "1_Pz7TV6vOa0"
      },
      "source": [
        "from sklearn.ensemble import BaggingRegressor\n",
        "from sklearn.neighbors import KNeighborsRegressor\n",
        "from sklearn.svm import SVR\n",
        "from sklearn.tree import DecisionTreeRegressor"
      ],
      "execution_count": 3,
      "outputs": []
    },
    {
      "cell_type": "markdown",
      "metadata": {
        "id": "e7q44MRcvOa0"
      },
      "source": [
        "## Bagging을 사용한 분류"
      ]
    },
    {
      "cell_type": "markdown",
      "metadata": {
        "id": "GhJrzI5HvOa1"
      },
      "source": [
        "데이터셋 불러오기"
      ]
    },
    {
      "cell_type": "code",
      "metadata": {
        "id": "I6CYRy8TvOa2"
      },
      "source": [
        "iris = load_iris()\n",
        "wine = load_wine()\n",
        "cancer = load_breast_cancer()"
      ],
      "execution_count": 4,
      "outputs": []
    },
    {
      "cell_type": "markdown",
      "metadata": {
        "id": "4nFk2uudvOa3"
      },
      "source": [
        "## KNN\n",
        "붓꽃 데이터"
      ]
    },
    {
      "cell_type": "code",
      "metadata": {
        "id": "95OtLwKkvOa4"
      },
      "source": [
        "# 베이스 모델\n",
        "# 데이터 모델링하기 하기전에는 반드시 스케일링 과정을 거쳐야함\n",
        "# StandardScaler() : 스케일러(기본 스케일. 평균과 표준편차 사용)\n",
        "base_model = make_pipeline(StandardScaler(),\n",
        "                          KNeighborsClassifier()) # KNN모델 만듬\n",
        "# 베이스 모델을 사용한 배깅 모델\n",
        "bagging_model = BaggingClassifier(base_model, n_estimators=10, max_samples=0.5, max_features=0.5) # Bagging KNN 모델 만듬"
      ],
      "execution_count": 5,
      "outputs": []
    },
    {
      "cell_type": "markdown",
      "metadata": {
        "id": "bmNw28MgvOa5"
      },
      "source": [
        "#### 분류기에 사용되는 매개변수\n",
        "* n_estimators : 앙상블에 사용할 분류기의 수\n",
        "* max_samples : 무작위로 뽑을 샘플의 수(0~1사이의 수로 지정하면 비율이 되어, 훈련세트에 곱한 값만큼 샘플링)\n",
        "* max_features: 최대 feature의 수\n"
      ]
    },
    {
      "cell_type": "code",
      "metadata": {
        "colab": {
          "base_uri": "https://localhost:8080/"
        },
        "id": "qKcMZy_uvOa6",
        "outputId": "b7cb947f-99db-48dc-8315-b67d2a4c9c49"
      },
      "source": [
        "# 베이스 모델을 사용\n",
        "cross_val = cross_validate(\n",
        "    estimator = base_model, # 베이스 모델을 기준으로 측정하기에 estimator에 base_model 넣음\n",
        "    X = iris.data, y=iris.target, # x는 train set, y는 test set\n",
        "    cv = 5)\n",
        "# 교차검증을 통해 해당 모델의 정확성, 작동하는데 걸린 시간 등을 알 수 있음\n",
        "print('avg fit time: {} (+/- {})'.format(cross_val['fit_time'].mean(), cross_val['fit_time'].std()))\n",
        "print('avg score time: {} (+/- {})'.format(cross_val['score_time'].mean(), cross_val['score_time'].std()))\n",
        "print('avg test score: {} (+/- {})'.format(cross_val['test_score'].mean(), cross_val['test_score'].std()))"
      ],
      "execution_count": 6,
      "outputs": [
        {
          "output_type": "stream",
          "text": [
            "avg fit time: 0.0013502120971679687 (+/- 0.0005265661245590182)\n",
            "avg score time: 0.002078676223754883 (+/- 0.00020699674042754462)\n",
            "avg test score: 0.96 (+/- 0.024944382578492935)\n"
          ],
          "name": "stdout"
        }
      ]
    },
    {
      "cell_type": "code",
      "metadata": {
        "colab": {
          "base_uri": "https://localhost:8080/"
        },
        "id": "rENle5U5vOa-",
        "outputId": "22ea5d57-830c-4d47-d959-9cc5af5ea02a"
      },
      "source": [
        "# 배깅 모델 사용\n",
        "cross_val = cross_validate(\n",
        "    estimator = bagging_model,\n",
        "    X = iris.data, y=iris.target,\n",
        "    cv = 5)\n",
        "print('avg fit time: {} (+/- {})'.format(cross_val['fit_time'].mean(), cross_val['fit_time'].std()))\n",
        "print('avg score time: {} (+/- {})'.format(cross_val['score_time'].mean(), cross_val['score_time'].std()))\n",
        "print('avg test score: {} (+/- {})'.format(cross_val['test_score'].mean(), cross_val['test_score'].std()))"
      ],
      "execution_count": 7,
      "outputs": [
        {
          "output_type": "stream",
          "text": [
            "avg fit time: 0.019859123229980468 (+/- 0.0027065462986493928)\n",
            "avg score time: 0.008351850509643554 (+/- 0.001363205861150441)\n",
            "avg test score: 0.9466666666666667 (+/- 0.026666666666666658)\n"
          ],
          "name": "stdout"
        }
      ]
    },
    {
      "cell_type": "markdown",
      "metadata": {
        "id": "DAveHsAvvOa_"
      },
      "source": [
        "와인 데이터"
      ]
    },
    {
      "cell_type": "code",
      "metadata": {
        "id": "bLRU88dBvObA"
      },
      "source": [
        "base_model = make_pipeline(StandardScaler(),\n",
        "                          KNeighborsClassifier())\n",
        "bagging_model = BaggingClassifier(base_model, n_estimators=10, max_samples=0.5, max_features=0.5)"
      ],
      "execution_count": 8,
      "outputs": []
    },
    {
      "cell_type": "code",
      "metadata": {
        "colab": {
          "base_uri": "https://localhost:8080/"
        },
        "id": "pcfq9FYEvObB",
        "outputId": "b731036f-77c3-4a1f-e361-3f1ad68c54bc"
      },
      "source": [
        "# 베이스 모델을 사용\n",
        "cross_val = cross_validate(\n",
        "    estimator = base_model,\n",
        "    X = wine.data, y=wine.target,\n",
        "    cv = 5)\n",
        "print('avg fit time: {} (+/- {})'.format(cross_val['fit_time'].mean(), cross_val['fit_time'].std()))\n",
        "print('avg score time: {} (+/- {})'.format(cross_val['score_time'].mean(), cross_val['score_time'].std()))\n",
        "print('avg test score: {} (+/- {})'.format(cross_val['test_score'].mean(), cross_val['test_score'].std()))"
      ],
      "execution_count": 9,
      "outputs": [
        {
          "output_type": "stream",
          "text": [
            "avg fit time: 0.002848052978515625 (+/- 0.0033377243988514625)\n",
            "avg score time: 0.002473783493041992 (+/- 0.0003037415418890169)\n",
            "avg test score: 0.9493650793650794 (+/- 0.037910929811115976)\n"
          ],
          "name": "stdout"
        }
      ]
    },
    {
      "cell_type": "code",
      "metadata": {
        "colab": {
          "base_uri": "https://localhost:8080/"
        },
        "id": "ETIqObgmvObC",
        "outputId": "f2cf2e24-02ce-4b5d-aa67-abd12116c47c"
      },
      "source": [
        "# 배깅 모델을 사용\n",
        "cross_val = cross_validate(\n",
        "    estimator = bagging_model,\n",
        "    X = wine.data, y=wine.target,\n",
        "    cv = 5)\n",
        "print('avg fit time: {} (+/- {})'.format(cross_val['fit_time'].mean(), cross_val['fit_time'].std()))\n",
        "print('avg score time: {} (+/- {})'.format(cross_val['score_time'].mean(), cross_val['score_time'].std()))\n",
        "print('avg test score: {} (+/- {})'.format(cross_val['test_score'].mean(), cross_val['test_score'].std()))"
      ],
      "execution_count": 10,
      "outputs": [
        {
          "output_type": "stream",
          "text": [
            "avg fit time: 0.01857151985168457 (+/- 0.00064649290347817)\n",
            "avg score time: 0.008067464828491211 (+/- 0.0005215080518076882)\n",
            "avg test score: 0.9665079365079364 (+/- 0.020746948644437477)\n"
          ],
          "name": "stdout"
        }
      ]
    },
    {
      "cell_type": "markdown",
      "metadata": {
        "id": "3wnnN9PjvObC"
      },
      "source": [
        "유방암 데이터"
      ]
    },
    {
      "cell_type": "code",
      "metadata": {
        "id": "GwhSZ6sWvObD"
      },
      "source": [
        "base_model = make_pipeline(StandardScaler(),\n",
        "                          KNeighborsClassifier())\n",
        "bagging_model = BaggingClassifier(base_model, n_estimators=10, max_samples=0.5, max_features=0.5)"
      ],
      "execution_count": 11,
      "outputs": []
    },
    {
      "cell_type": "code",
      "metadata": {
        "colab": {
          "base_uri": "https://localhost:8080/"
        },
        "id": "nUnuMCFPvObE",
        "outputId": "aea816d1-ecc6-410e-d858-5479645ae3c4"
      },
      "source": [
        "# 베이스 모델을 사용\n",
        "cross_val = cross_validate(\n",
        "    estimator = base_model,\n",
        "    X = cancer.data, y=cancer.target,\n",
        "    cv = 5)\n",
        "print('avg fit time: {} (+/- {})'.format(cross_val['fit_time'].mean(), cross_val['fit_time'].std()))\n",
        "print('avg score time: {} (+/- {})'.format(cross_val['score_time'].mean(), cross_val['score_time'].std()))\n",
        "print('avg test score: {} (+/- {})'.format(cross_val['test_score'].mean(), cross_val['test_score'].std()))"
      ],
      "execution_count": 12,
      "outputs": [
        {
          "output_type": "stream",
          "text": [
            "avg fit time: 0.002972269058227539 (+/- 0.0007875655427291602)\n",
            "avg score time: 0.008790063858032226 (+/- 0.0022377124864383746)\n",
            "avg test score: 0.9648501785437045 (+/- 0.009609970350036127)\n"
          ],
          "name": "stdout"
        }
      ]
    },
    {
      "cell_type": "code",
      "metadata": {
        "colab": {
          "base_uri": "https://localhost:8080/"
        },
        "id": "Q3FtYCCovObG",
        "outputId": "be0a37db-1977-4b50-db73-14905e6f40ac"
      },
      "source": [
        "# 배깅 모델을 사용\n",
        "cross_val = cross_validate(\n",
        "    estimator = bagging_model,\n",
        "    X = cancer.data, y=cancer.target,\n",
        "    cv = 5)\n",
        "print('avg fit time: {} (+/- {})'.format(cross_val['fit_time'].mean(), cross_val['fit_time'].std()))\n",
        "print('avg score time: {} (+/- {})'.format(cross_val['score_time'].mean(), cross_val['score_time'].std()))\n",
        "print('avg test score: {} (+/- {})'.format(cross_val['test_score'].mean(), cross_val['test_score'].std()))"
      ],
      "execution_count": 13,
      "outputs": [
        {
          "output_type": "stream",
          "text": [
            "avg fit time: 0.025846338272094725 (+/- 0.003252785654878649)\n",
            "avg score time: 0.017942047119140624 (+/- 0.0016588419074843991)\n",
            "avg test score: 0.9666045645086166 (+/- 0.01164730071870122)\n"
          ],
          "name": "stdout"
        }
      ]
    },
    {
      "cell_type": "markdown",
      "metadata": {
        "id": "uOeTDHcgvObH"
      },
      "source": [
        "## SVC\n",
        "붓꽃 데이터"
      ]
    },
    {
      "cell_type": "code",
      "metadata": {
        "id": "0PTDISnxvObH"
      },
      "source": [
        "base_model = make_pipeline(StandardScaler(),\n",
        "                          SVC()) \n",
        "bagging_model = BaggingClassifier(base_model, n_estimators=10, max_samples=0.5, max_features=0.5)"
      ],
      "execution_count": 15,
      "outputs": []
    },
    {
      "cell_type": "code",
      "metadata": {
        "colab": {
          "base_uri": "https://localhost:8080/"
        },
        "id": "fjCGnkuKvObI",
        "outputId": "54ba60f0-8943-47ab-972a-195dcb7b00f2"
      },
      "source": [
        "# 베이스 모델을 사용\n",
        "cross_val = cross_validate(\n",
        "    estimator = base_model,\n",
        "    X = iris.data, y = iris.target, # x, y에 알맞은 데이터\n",
        "    cv = 5)\n",
        "print('avg fit time: {} (+/- {})'.format(cross_val['fit_time'].mean(), cross_val['fit_time'].std()))\n",
        "print('avg score time: {} (+/- {})'.format(cross_val['score_time'].mean(), cross_val['score_time'].std()))\n",
        "print('avg test score: {} (+/- {})'.format(cross_val['test_score'].mean(), cross_val['test_score'].std()))"
      ],
      "execution_count": 16,
      "outputs": [
        {
          "output_type": "stream",
          "text": [
            "avg fit time: 0.0030764102935791015 (+/- 0.0018292621292118063)\n",
            "avg score time: 0.0012019157409667968 (+/- 0.0005558966158756917)\n",
            "avg test score: 0.9666666666666666 (+/- 0.02108185106778919)\n"
          ],
          "name": "stdout"
        }
      ]
    },
    {
      "cell_type": "code",
      "metadata": {
        "colab": {
          "base_uri": "https://localhost:8080/"
        },
        "id": "VvmtOlKCvObI",
        "outputId": "79cb3df2-4b06-48c4-bc39-9933610a3587"
      },
      "source": [
        "# 배깅 모델을 사용\n",
        "cross_val = cross_validate(\n",
        "    estimator = bagging_model,\n",
        "    X = iris.data, y=iris.target,\n",
        "    cv = 5)\n",
        "print('avg fit time: {} (+/- {})'.format(cross_val['fit_time'].mean(), cross_val['fit_time'].std()))\n",
        "print('avg score time: {} (+/- {})'.format(cross_val['score_time'].mean(), cross_val['score_time'].std()))\n",
        "print('avg test score: {} (+/- {})'.format(cross_val['test_score'].mean(), cross_val['test_score'].std()))"
      ],
      "execution_count": 19,
      "outputs": [
        {
          "output_type": "stream",
          "text": [
            "avg fit time: 0.026966428756713866 (+/- 0.002558697503380737)\n",
            "avg score time: 0.0030735492706298827 (+/- 5.747254790725658e-05)\n",
            "avg test score: 0.9466666666666667 (+/- 0.026666666666666658)\n"
          ],
          "name": "stdout"
        }
      ]
    },
    {
      "cell_type": "markdown",
      "metadata": {
        "id": "J-rLnK6kvObJ"
      },
      "source": [
        "와인 데이터"
      ]
    },
    {
      "cell_type": "code",
      "metadata": {
        "id": "Io1FRf6_vObJ"
      },
      "source": [
        "base_model = make_pipeline(StandardScaler(),\n",
        "                          SVC())\n",
        "bagging_model = BaggingClassifier(base_model, n_estimators=10, max_samples=0.5, max_features=0.5)"
      ],
      "execution_count": 18,
      "outputs": []
    },
    {
      "cell_type": "code",
      "metadata": {
        "colab": {
          "base_uri": "https://localhost:8080/"
        },
        "id": "7VH2YPx5vObK",
        "outputId": "ed78f809-fb57-4b65-cd80-b14a6c3fc502"
      },
      "source": [
        "# 베이스 모델을 사용\n",
        "cross_val = cross_validate(\n",
        "    estimator = base_model,\n",
        "    X = wine.data, y = wine.target, # x, y에 알맞은 데이터\n",
        "    cv = 5)\n",
        "print('avg fit time: {} (+/- {})'.format(cross_val['fit_time'].mean(), cross_val['fit_time'].std()))\n",
        "print('avg score time: {} (+/- {})'.format(cross_val['score_time'].mean(), cross_val['score_time'].std()))\n",
        "print('avg test score: {} (+/- {})'.format(cross_val['test_score'].mean(), cross_val['test_score'].std()))"
      ],
      "execution_count": 20,
      "outputs": [
        {
          "output_type": "stream",
          "text": [
            "avg fit time: 0.002951812744140625 (+/- 0.0017878162816989441)\n",
            "avg score time: 0.0006565093994140625 (+/- 5.171575424557867e-05)\n",
            "avg test score: 0.9833333333333334 (+/- 0.022222222222222233)\n"
          ],
          "name": "stdout"
        }
      ]
    },
    {
      "cell_type": "code",
      "metadata": {
        "colab": {
          "base_uri": "https://localhost:8080/"
        },
        "id": "uEJNXdxvvObL",
        "outputId": "e0407ea5-e596-4d6b-a23a-f456953b9a20"
      },
      "source": [
        "# 배깅 모델을 사용\n",
        "cross_val = cross_validate(\n",
        "    estimator = bagging_model,\n",
        "    X = wine.data, y=wine.target,\n",
        "    cv = 5)\n",
        "print('avg fit time: {} (+/- {})'.format(cross_val['fit_time'].mean(), cross_val['fit_time'].std()))\n",
        "print('avg score time: {} (+/- {})'.format(cross_val['score_time'].mean(), cross_val['score_time'].std()))\n",
        "print('avg test score: {} (+/- {})'.format(cross_val['test_score'].mean(), cross_val['test_score'].std()))"
      ],
      "execution_count": 21,
      "outputs": [
        {
          "output_type": "stream",
          "text": [
            "avg fit time: 0.029575634002685546 (+/- 0.0021997565430258536)\n",
            "avg score time: 0.003726339340209961 (+/- 0.00047114422839459393)\n",
            "avg test score: 0.9555555555555555 (+/- 0.045133546692422026)\n"
          ],
          "name": "stdout"
        }
      ]
    },
    {
      "cell_type": "markdown",
      "metadata": {
        "id": "6T_8p7LAvObL"
      },
      "source": [
        "유방암 데이터"
      ]
    },
    {
      "cell_type": "code",
      "metadata": {
        "id": "J6t2aVWGvObL"
      },
      "source": [
        "base_model = make_pipeline(StandardScaler(),\n",
        "                          SVC())\n",
        "bagging_model = BaggingClassifier(base_model, n_estimators=10, max_samples=0.5, max_features=0.5)"
      ],
      "execution_count": 22,
      "outputs": []
    },
    {
      "cell_type": "code",
      "metadata": {
        "colab": {
          "base_uri": "https://localhost:8080/"
        },
        "id": "5RDWmBjJvObM",
        "outputId": "3d2a3119-38b9-496a-ad57-434e43ddeca7"
      },
      "source": [
        "# 베이스 모델을 사용\n",
        "cross_val = cross_validate(\n",
        "    estimator = base_model,\n",
        "    X = cancer.data, y=cancer.target,\n",
        "    cv = 5)\n",
        "print('avg fit time: {} (+/- {})'.format(cross_val['fit_time'].mean(), cross_val['fit_time'].std()))\n",
        "print('avg score time: {} (+/- {})'.format(cross_val['score_time'].mean(), cross_val['score_time'].std()))\n",
        "print('avg test score: {} (+/- {})'.format(cross_val['test_score'].mean(), cross_val['test_score'].std()))"
      ],
      "execution_count": 23,
      "outputs": [
        {
          "output_type": "stream",
          "text": [
            "avg fit time: 0.007333040237426758 (+/- 0.0024419333030604277)\n",
            "avg score time: 0.0015376091003417968 (+/- 9.471412044225089e-05)\n",
            "avg test score: 0.9736376339077782 (+/- 0.014678541667933545)\n"
          ],
          "name": "stdout"
        }
      ]
    },
    {
      "cell_type": "code",
      "metadata": {
        "colab": {
          "base_uri": "https://localhost:8080/"
        },
        "id": "dtxV8dOavObM",
        "outputId": "7e58e7a5-dbdf-4486-887d-0996c52129f0"
      },
      "source": [
        "# 배깅 모델을 사용\n",
        "cross_val = cross_validate(\n",
        "    estimator = bagging_model,\n",
        "    X = cancer.data, y=cancer.target,\n",
        "    cv = 5)\n",
        "print('avg fit time: {} (+/- {})'.format(cross_val['fit_time'].mean(), cross_val['fit_time'].std()))\n",
        "print('avg score time: {} (+/- {})'.format(cross_val['score_time'].mean(), cross_val['score_time'].std()))\n",
        "print('avg test score: {} (+/- {})'.format(cross_val['test_score'].mean(), cross_val['test_score'].std()))"
      ],
      "execution_count": 24,
      "outputs": [
        {
          "output_type": "stream",
          "text": [
            "avg fit time: 0.0390678882598877 (+/- 0.002422083488914657)\n",
            "avg score time: 0.007060194015502929 (+/- 0.00017065518919427692)\n",
            "avg test score: 0.9631113181183046 (+/- 0.014000421580213612)\n"
          ],
          "name": "stdout"
        }
      ]
    },
    {
      "cell_type": "markdown",
      "metadata": {
        "id": "jO8nMKguvObN"
      },
      "source": [
        "## Decision Tree\n",
        "붓꽃 데이터"
      ]
    },
    {
      "cell_type": "code",
      "metadata": {
        "id": "6fMbRtc2vObO"
      },
      "source": [
        "base_model = make_pipeline(StandardScaler(),\n",
        "                          DecisionTreeClassifier())\n",
        "bagging_model = BaggingClassifier(base_model, n_estimators=10, max_samples=0.5, max_features=0.5)"
      ],
      "execution_count": 25,
      "outputs": []
    },
    {
      "cell_type": "code",
      "metadata": {
        "colab": {
          "base_uri": "https://localhost:8080/"
        },
        "id": "fvOI1UocvObP",
        "outputId": "8f82668c-6731-47e7-dfb5-39887b53b909"
      },
      "source": [
        "# 베이스 모델을 사용\n",
        "cross_val = cross_validate(\n",
        "    estimator = base_model,\n",
        "    X = iris.data, y=iris.target,\n",
        "    cv = 5)\n",
        "print('avg fit time: {} (+/- {})'.format(cross_val['fit_time'].mean(), cross_val['fit_time'].std()))\n",
        "print('avg score time: {} (+/- {})'.format(cross_val['score_time'].mean(), cross_val['score_time'].std()))\n",
        "print('avg test score: {} (+/- {})'.format(cross_val['test_score'].mean(), cross_val['test_score'].std()))"
      ],
      "execution_count": 26,
      "outputs": [
        {
          "output_type": "stream",
          "text": [
            "avg fit time: 0.0017421722412109375 (+/- 0.0007440754002624946)\n",
            "avg score time: 0.0006098270416259766 (+/- 0.0002075546993931556)\n",
            "avg test score: 0.9666666666666668 (+/- 0.036514837167011066)\n"
          ],
          "name": "stdout"
        }
      ]
    },
    {
      "cell_type": "code",
      "metadata": {
        "colab": {
          "base_uri": "https://localhost:8080/"
        },
        "id": "lTAwKSoevObQ",
        "outputId": "16573914-2175-449e-aa52-c680809d41a1"
      },
      "source": [
        "# 배깅 모델 사용\n",
        "cross_val = cross_validate(\n",
        "    estimator = bagging_model,\n",
        "    X = iris.data, y=iris.target,\n",
        "    cv = 5)\n",
        "print('avg fit time: {} (+/- {})'.format(cross_val['fit_time'].mean(), cross_val['fit_time'].std()))\n",
        "print('avg score time: {} (+/- {})'.format(cross_val['score_time'].mean(), cross_val['score_time'].std()))\n",
        "print('avg test score: {} (+/- {})'.format(cross_val['test_score'].mean(), cross_val['test_score'].std()))"
      ],
      "execution_count": 27,
      "outputs": [
        {
          "output_type": "stream",
          "text": [
            "avg fit time: 0.02585492134094238 (+/- 0.003972458371142051)\n",
            "avg score time: 0.0023853302001953123 (+/- 8.648850765573532e-05)\n",
            "avg test score: 0.9533333333333334 (+/- 0.03399346342395189)\n"
          ],
          "name": "stdout"
        }
      ]
    },
    {
      "cell_type": "markdown",
      "metadata": {
        "id": "lp32u-yTvObR"
      },
      "source": [
        "와인 데이터"
      ]
    },
    {
      "cell_type": "code",
      "metadata": {
        "id": "dxsZNyuDvObS"
      },
      "source": [
        "base_model = make_pipeline(StandardScaler(),\n",
        "                          DecisionTreeClassifier())\n",
        "bagging_model = BaggingClassifier(base_model, n_estimators=10, max_samples=0.5, max_features=0.5)"
      ],
      "execution_count": 28,
      "outputs": []
    },
    {
      "cell_type": "code",
      "metadata": {
        "colab": {
          "base_uri": "https://localhost:8080/"
        },
        "id": "ohIsOeCHvObT",
        "outputId": "7f7b561e-e7d7-49a7-bf5e-757bb84610bb"
      },
      "source": [
        "# 베이스 모델을 사용\n",
        "cross_val = cross_validate(\n",
        "    estimator = base_model,\n",
        "    X = wine.data, y=wine.target,\n",
        "    cv = 5)\n",
        "print('avg fit time: {} (+/- {})'.format(cross_val['fit_time'].mean(), cross_val['fit_time'].std()))\n",
        "print('avg score time: {} (+/- {})'.format(cross_val['score_time'].mean(), cross_val['score_time'].std()))\n",
        "print('avg test score: {} (+/- {})'.format(cross_val['test_score'].mean(), cross_val['test_score'].std()))"
      ],
      "execution_count": 29,
      "outputs": [
        {
          "output_type": "stream",
          "text": [
            "avg fit time: 0.0024817466735839845 (+/- 0.00035556667800557733)\n",
            "avg score time: 0.0006777286529541015 (+/- 0.00017637043033085414)\n",
            "avg test score: 0.8765079365079365 (+/- 0.04835046741937931)\n"
          ],
          "name": "stdout"
        }
      ]
    },
    {
      "cell_type": "code",
      "metadata": {
        "colab": {
          "base_uri": "https://localhost:8080/"
        },
        "id": "QXlYY7ZfvOba",
        "outputId": "66225d04-3fb7-4409-8716-34686d80b1f4"
      },
      "source": [
        "# 배깅 모델 사용\n",
        "cross_val = cross_validate(\n",
        "    estimator = bagging_model,\n",
        "    X = wine.data, y=wine.target,\n",
        "    cv = 5)\n",
        "print('avg fit time: {} (+/- {})'.format(cross_val['fit_time'].mean(), cross_val['fit_time'].std()))\n",
        "print('avg score time: {} (+/- {})'.format(cross_val['score_time'].mean(), cross_val['score_time'].std()))\n",
        "print('avg test score: {} (+/- {})'.format(cross_val['test_score'].mean(), cross_val['test_score'].std()))"
      ],
      "execution_count": 30,
      "outputs": [
        {
          "output_type": "stream",
          "text": [
            "avg fit time: 0.029011297225952148 (+/- 0.0028353080192493104)\n",
            "avg score time: 0.002565622329711914 (+/- 0.00010812412679661082)\n",
            "avg test score: 0.9722222222222221 (+/- 0.03513641844631534)\n"
          ],
          "name": "stdout"
        }
      ]
    },
    {
      "cell_type": "markdown",
      "metadata": {
        "id": "7Dcuai9fvObb"
      },
      "source": [
        "유방암 데이터"
      ]
    },
    {
      "cell_type": "code",
      "metadata": {
        "id": "-IGMgkNzvObb"
      },
      "source": [
        "base_model = make_pipeline(StandardScaler(),\n",
        "                          DecisionTreeClassifier())\n",
        "bagging_model = BaggingClassifier(base_model, n_estimators=10, max_samples=0.5, max_features=0.5)"
      ],
      "execution_count": 31,
      "outputs": []
    },
    {
      "cell_type": "code",
      "metadata": {
        "colab": {
          "base_uri": "https://localhost:8080/"
        },
        "id": "H6-kb9Z1vObb",
        "outputId": "f1dbaca6-2399-4484-d7c9-e3b56e679b9c"
      },
      "source": [
        "# 베이스 모델을 사용\n",
        "cross_val = cross_validate(\n",
        "    estimator = base_model,\n",
        "    X = cancer.data, y=cancer.target,\n",
        "    cv = 5)\n",
        "print('avg fit time: {} (+/- {})'.format(cross_val['fit_time'].mean(), cross_val['fit_time'].std()))\n",
        "print('avg score time: {} (+/- {})'.format(cross_val['score_time'].mean(), cross_val['score_time'].std()))\n",
        "print('avg test score: {} (+/- {})'.format(cross_val['test_score'].mean(), cross_val['test_score'].std()))"
      ],
      "execution_count": 32,
      "outputs": [
        {
          "output_type": "stream",
          "text": [
            "avg fit time: 0.009439373016357422 (+/- 0.0006323141671464819)\n",
            "avg score time: 0.0007726669311523438 (+/- 0.00019204893441693361)\n",
            "avg test score: 0.924406148113647 (+/- 0.01817041384858491)\n"
          ],
          "name": "stdout"
        }
      ]
    },
    {
      "cell_type": "code",
      "metadata": {
        "colab": {
          "base_uri": "https://localhost:8080/"
        },
        "id": "aQzINFryvObc",
        "outputId": "a40b2eaa-642d-42f0-d08b-acbb67aeb323"
      },
      "source": [
        "# 배깅 모델 사용\n",
        "cross_val = cross_validate(\n",
        "    estimator = bagging_model,\n",
        "    X = cancer.data, y=cancer.target,\n",
        "    cv = 5)\n",
        "print('avg fit time: {} (+/- {})'.format(cross_val['fit_time'].mean(), cross_val['fit_time'].std()))\n",
        "print('avg score time: {} (+/- {})'.format(cross_val['score_time'].mean(), cross_val['score_time'].std()))\n",
        "print('avg test score: {} (+/- {})'.format(cross_val['test_score'].mean(), cross_val['test_score'].std()))"
      ],
      "execution_count": 33,
      "outputs": [
        {
          "output_type": "stream",
          "text": [
            "avg fit time: 0.04267277717590332 (+/- 0.004941013960016342)\n",
            "avg score time: 0.0031805038452148438 (+/- 0.000494659293888585)\n",
            "avg test score: 0.9437820214252446 (+/- 0.015232714390068411)\n"
          ],
          "name": "stdout"
        }
      ]
    },
    {
      "cell_type": "markdown",
      "metadata": {
        "id": "wL6ht-BSvObc"
      },
      "source": [
        "## Bagging을 사용한 회귀\n",
        "### 데이터셋 불러오기"
      ]
    },
    {
      "cell_type": "code",
      "metadata": {
        "id": "hRnTN6zvvObd"
      },
      "source": [
        "boston = load_boston()\n",
        "diabetes = load_diabetes()"
      ],
      "execution_count": 34,
      "outputs": []
    },
    {
      "cell_type": "markdown",
      "metadata": {
        "id": "AMXZyrJQvObd"
      },
      "source": [
        "## KNN\n",
        "### 보스턴 주택 가격 데이터"
      ]
    },
    {
      "cell_type": "code",
      "metadata": {
        "id": "6rojiEOEvObd"
      },
      "source": [
        "base_model = make_pipeline(StandardScaler(),\n",
        "                          KNeighborsRegressor())\n",
        "bagging_model = BaggingRegressor(base_model, n_estimators=10, max_samples=0.5, max_features=0.5)"
      ],
      "execution_count": 35,
      "outputs": []
    },
    {
      "cell_type": "code",
      "metadata": {
        "colab": {
          "base_uri": "https://localhost:8080/"
        },
        "id": "5RJEKR7mvObe",
        "outputId": "9ed0b011-6476-49af-d465-23cd8225b452"
      },
      "source": [
        "# 베이스 모델을 사용\n",
        "cross_val = cross_validate(\n",
        "    estimator = base_model,\n",
        "    X = boston.data, y=boston.target,\n",
        "    cv = 5)\n",
        "print('avg fit time: {} (+/- {})'.format(cross_val['fit_time'].mean(), cross_val['fit_time'].std()))\n",
        "print('avg score time: {} (+/- {})'.format(cross_val['score_time'].mean(), cross_val['score_time'].std()))\n",
        "print('avg test score: {} (+/- {})'.format(cross_val['test_score'].mean(), cross_val['test_score'].std()))"
      ],
      "execution_count": 36,
      "outputs": [
        {
          "output_type": "stream",
          "text": [
            "avg fit time: 0.0015607357025146484 (+/- 0.0005878583281789182)\n",
            "avg score time: 0.0019240379333496094 (+/- 0.00045915751543536943)\n",
            "avg test score: 0.47357748833823543 (+/- 0.13243123464477455)\n"
          ],
          "name": "stdout"
        }
      ]
    },
    {
      "cell_type": "code",
      "metadata": {
        "colab": {
          "base_uri": "https://localhost:8080/"
        },
        "id": "xcu9Jb-NvObe",
        "outputId": "834512fe-a835-45ae-ccf1-c97ea5cc0486"
      },
      "source": [
        "# 배깅 모델을 사용\n",
        "cross_val = cross_validate(\n",
        "    estimator = bagging_model,\n",
        "    X = boston.data, y=boston.target,\n",
        "    cv = 5)\n",
        "print('avg fit time: {} (+/- {})'.format(cross_val['fit_time'].mean(), cross_val['fit_time'].std()))\n",
        "print('avg score time: {} (+/- {})'.format(cross_val['score_time'].mean(), cross_val['score_time'].std()))\n",
        "print('avg test score: {} (+/- {})'.format(cross_val['test_score'].mean(), cross_val['test_score'].std()))"
      ],
      "execution_count": 37,
      "outputs": [
        {
          "output_type": "stream",
          "text": [
            "avg fit time: 0.018162870407104494 (+/- 0.0012598155538742957)\n",
            "avg score time: 0.009545040130615235 (+/- 0.00036645478211693686)\n",
            "avg test score: 0.47161920985743067 (+/- 0.07468419582047187)\n"
          ],
          "name": "stdout"
        }
      ]
    },
    {
      "cell_type": "markdown",
      "metadata": {
        "id": "-dXqmBYXvObf"
      },
      "source": [
        "### 당뇨병 데이터"
      ]
    },
    {
      "cell_type": "code",
      "metadata": {
        "id": "F23N_iV3vObf"
      },
      "source": [
        "base_model = make_pipeline(StandardScaler(),\n",
        "                          KNeighborsRegressor())\n",
        "bagging_model = BaggingRegressor(base_model, n_estimators=10, max_samples=0.5, max_features=0.5)"
      ],
      "execution_count": 38,
      "outputs": []
    },
    {
      "cell_type": "code",
      "metadata": {
        "colab": {
          "base_uri": "https://localhost:8080/"
        },
        "id": "MGyE9NmyvObf",
        "outputId": "d4ee19ec-c6e8-44df-f635-51d4d06726fb"
      },
      "source": [
        "# 베이스 모델을 사용\n",
        "cross_val = cross_validate(\n",
        "    estimator = base_model,\n",
        "    X = diabetes.data, y=diabetes.target,\n",
        "    cv = 5)\n",
        "print('avg fit time: {} (+/- {})'.format(cross_val['fit_time'].mean(), cross_val['fit_time'].std()))\n",
        "print('avg score time: {} (+/- {})'.format(cross_val['score_time'].mean(), cross_val['score_time'].std()))\n",
        "print('avg test score: {} (+/- {})'.format(cross_val['test_score'].mean(), cross_val['test_score'].std()))"
      ],
      "execution_count": 39,
      "outputs": [
        {
          "output_type": "stream",
          "text": [
            "avg fit time: 0.0015477180480957032 (+/- 0.0005874359872240771)\n",
            "avg score time: 0.0030533313751220704 (+/- 0.0013680344684512565)\n",
            "avg test score: 0.3689720650295623 (+/- 0.044659049060165365)\n"
          ],
          "name": "stdout"
        }
      ]
    },
    {
      "cell_type": "code",
      "metadata": {
        "colab": {
          "base_uri": "https://localhost:8080/"
        },
        "id": "Kdbkuo3uvObg",
        "outputId": "6dfe95e4-a3ad-4222-ae01-ef49b395f08b"
      },
      "source": [
        "# 배깅 모델을 사용\n",
        "cross_val = cross_validate(\n",
        "    estimator = bagging_model,\n",
        "    X = diabetes.data, y=diabetes.target,\n",
        "    cv = 5)\n",
        "print('avg fit time: {} (+/- {})'.format(cross_val['fit_time'].mean(), cross_val['fit_time'].std()))\n",
        "print('avg score time: {} (+/- {})'.format(cross_val['score_time'].mean(), cross_val['score_time'].std()))\n",
        "print('avg test score: {} (+/- {})'.format(cross_val['test_score'].mean(), cross_val['test_score'].std()))"
      ],
      "execution_count": 40,
      "outputs": [
        {
          "output_type": "stream",
          "text": [
            "avg fit time: 0.02099599838256836 (+/- 0.004269524031052737)\n",
            "avg score time: 0.009959697723388672 (+/- 0.001063542112890918)\n",
            "avg test score: 0.3998192388231475 (+/- 0.04084869823667317)\n"
          ],
          "name": "stdout"
        }
      ]
    },
    {
      "cell_type": "markdown",
      "metadata": {
        "id": "qomRx1tsvObg"
      },
      "source": [
        "## SVR\n",
        "### 보스턴 주택 가격 데이터"
      ]
    },
    {
      "cell_type": "code",
      "metadata": {
        "id": "XhQCluOLvObh"
      },
      "source": [
        "# SVR을 사용해 base_model과 bagging_model을 만듬\n",
        "base_model =  make_pipeline(StandardScaler(),\n",
        "                          SVR())\n",
        "bagging_model= BaggingRegressor(base_model, n_estimators=10, max_samples=0.5, max_features=0.5)"
      ],
      "execution_count": 42,
      "outputs": []
    },
    {
      "cell_type": "code",
      "metadata": {
        "colab": {
          "base_uri": "https://localhost:8080/"
        },
        "id": "0iyAjZvHvObh",
        "outputId": "139a2318-b4ce-402d-a496-a1318742fc36"
      },
      "source": [
        "# 베이스 모델을 사용\n",
        "cross_val = cross_validate(\n",
        "    estimator = base_model,\n",
        "    X = boston.data, y=boston.target,\n",
        "    cv = 5)\n",
        "print('avg fit time: {} (+/- {})'.format(cross_val['fit_time'].mean(), cross_val['fit_time'].std()))\n",
        "print('avg score time: {} (+/- {})'.format(cross_val['score_time'].mean(), cross_val['score_time'].std()))\n",
        "print('avg test score: {} (+/- {})'.format(cross_val['test_score'].mean(), cross_val['test_score'].std()))"
      ],
      "execution_count": 43,
      "outputs": [
        {
          "output_type": "stream",
          "text": [
            "avg fit time: 0.016150140762329103 (+/- 0.0009696445987929509)\n",
            "avg score time: 0.0028767108917236326 (+/- 0.00038172118720433847)\n",
            "avg test score: 0.17631266230186618 (+/- 0.5224914915128981)\n"
          ],
          "name": "stdout"
        }
      ]
    },
    {
      "cell_type": "code",
      "metadata": {
        "colab": {
          "base_uri": "https://localhost:8080/"
        },
        "id": "VVYkei-4vObi",
        "outputId": "aa0b9b7e-e64d-4a49-b039-e9f581ff0387"
      },
      "source": [
        "# 배깅 모델을 사용\n",
        "cross_val = cross_validate(\n",
        "    estimator = bagging_model,\n",
        "    X = boston.data, y=boston.target,\n",
        "    cv = 5)\n",
        "print('avg fit time: {} (+/- {})'.format(cross_val['fit_time'].mean(), cross_val['fit_time'].std()))\n",
        "print('avg score time: {} (+/- {})'.format(cross_val['score_time'].mean(), cross_val['score_time'].std()))\n",
        "print('avg test score: {} (+/- {})'.format(cross_val['test_score'].mean(), cross_val['test_score'].std()))"
      ],
      "execution_count": 44,
      "outputs": [
        {
          "output_type": "stream",
          "text": [
            "avg fit time: 0.05386219024658203 (+/- 0.0020138100704559293)\n",
            "avg score time: 0.008781194686889648 (+/- 0.00018202811181318364)\n",
            "avg test score: 0.16255004942235268 (+/- 0.34109995020010647)\n"
          ],
          "name": "stdout"
        }
      ]
    },
    {
      "cell_type": "markdown",
      "metadata": {
        "id": "xCs4WeDKvObj"
      },
      "source": [
        "### 당뇨병 데이터"
      ]
    },
    {
      "cell_type": "code",
      "metadata": {
        "id": "o8su69-_vObj"
      },
      "source": [
        "base_model = make_pipeline(StandardScaler(),\n",
        "                          SVR())\n",
        "bagging_model = BaggingRegressor(base_model, n_estimators=10, max_samples=0.5, max_features=0.5)"
      ],
      "execution_count": 45,
      "outputs": []
    },
    {
      "cell_type": "code",
      "metadata": {
        "colab": {
          "base_uri": "https://localhost:8080/"
        },
        "id": "fAQ2dIPnvObk",
        "outputId": "cf0533e8-a523-444a-d109-5ea81bbb380b"
      },
      "source": [
        "# 베이스 모델을 사용\n",
        "cross_val = cross_validate(\n",
        "    estimator = base_model,\n",
        "    X = diabetes.data, y=diabetes.target,\n",
        "    cv = 5)\n",
        "print('avg fit time: {} (+/- {})'.format(cross_val['fit_time'].mean(), cross_val['fit_time'].std()))\n",
        "print('avg score time: {} (+/- {})'.format(cross_val['score_time'].mean(), cross_val['score_time'].std()))\n",
        "print('avg test score: {} (+/- {})'.format(cross_val['test_score'].mean(), cross_val['test_score'].std()))"
      ],
      "execution_count": 46,
      "outputs": [
        {
          "output_type": "stream",
          "text": [
            "avg fit time: 0.012396144866943359 (+/- 0.003790306439626996)\n",
            "avg score time: 0.0019643306732177734 (+/- 3.570456533984932e-05)\n",
            "avg test score: 0.14659936199629434 (+/- 0.02190798003342928)\n"
          ],
          "name": "stdout"
        }
      ]
    },
    {
      "cell_type": "code",
      "metadata": {
        "colab": {
          "base_uri": "https://localhost:8080/"
        },
        "id": "7YSVpLLRvObl",
        "outputId": "98e07842-f771-4370-a18c-aad7a0dcc8b1"
      },
      "source": [
        "# 배깅 모델을 사용\n",
        "cross_val = cross_validate(\n",
        "    estimator = bagging_model,\n",
        "    X = diabetes.data, y=diabetes.target,\n",
        "    cv = 5)\n",
        "print('avg fit time: {} (+/- {})'.format(cross_val['fit_time'].mean(), cross_val['fit_time'].std()))\n",
        "print('avg score time: {} (+/- {})'.format(cross_val['score_time'].mean(), cross_val['score_time'].std()))\n",
        "print('avg test score: {} (+/- {})'.format(cross_val['test_score'].mean(), cross_val['test_score'].std()))"
      ],
      "execution_count": 47,
      "outputs": [
        {
          "output_type": "stream",
          "text": [
            "avg fit time: 0.044451332092285155 (+/- 0.003477360588648972)\n",
            "avg score time: 0.007396793365478516 (+/- 0.00041732843113955354)\n",
            "avg test score: 0.06556885239460948 (+/- 0.01982767568266837)\n"
          ],
          "name": "stdout"
        }
      ]
    },
    {
      "cell_type": "markdown",
      "metadata": {
        "id": "_Fv8ls8zvObm"
      },
      "source": [
        "## Random Forest\n",
        "* sklearn.ensemble 모듈에는 무작위 결정 트리를 기반으로하는 두 개의 평균화 알고리즘이 존재\n",
        "    + Random Forest"
      ]
    },
    {
      "cell_type": "code",
      "metadata": {
        "id": "K4wfSGekvObn"
      },
      "source": [
        "from sklearn.ensemble import RandomForestClassifier, ExtraTreesClassifier\n",
        "from sklearn.ensemble import RandomForestRegressor, ExtraTreesRegressor"
      ],
      "execution_count": 48,
      "outputs": []
    },
    {
      "cell_type": "markdown",
      "metadata": {
        "id": "6Vcxq_-WvObn"
      },
      "source": [
        "## Random Forest 분류"
      ]
    },
    {
      "cell_type": "code",
      "metadata": {
        "id": "YrDTzFz-vObn"
      },
      "source": [
        "# 랜덤포레스트 모델 만드는 코드\n",
        "base_model = make_pipeline(StandardScaler(),\n",
        "                          RandomForestClassifier())"
      ],
      "execution_count": 50,
      "outputs": []
    },
    {
      "cell_type": "code",
      "metadata": {
        "colab": {
          "base_uri": "https://localhost:8080/"
        },
        "id": "NPLLI4a9vObn",
        "outputId": "7f0245f1-3701-4106-cc7c-863f471dcea5"
      },
      "source": [
        "cross_val = cross_validate(\n",
        "    estimator = base_model,\n",
        "    X = iris.data, y=iris.target,\n",
        "    cv = 5)\n",
        "print('avg fit time: {} (+/- {})'.format(cross_val['fit_time'].mean(), cross_val['fit_time'].std()))\n",
        "print('avg score time: {} (+/- {})'.format(cross_val['score_time'].mean(), cross_val['score_time'].std()))\n",
        "print('avg test score: {} (+/- {})'.format(cross_val['test_score'].mean(), cross_val['test_score'].std()))"
      ],
      "execution_count": 51,
      "outputs": [
        {
          "output_type": "stream",
          "text": [
            "avg fit time: 0.13342638015747071 (+/- 0.007407309570588814)\n",
            "avg score time: 0.008752202987670899 (+/- 0.0007586216127784869)\n",
            "avg test score: 0.96 (+/- 0.024944382578492935)\n"
          ],
          "name": "stdout"
        }
      ]
    },
    {
      "cell_type": "code",
      "metadata": {
        "colab": {
          "base_uri": "https://localhost:8080/"
        },
        "id": "G33CJwIKvObo",
        "outputId": "8e1abe13-0dc3-4f6b-ba5f-5c7de3400493"
      },
      "source": [
        "cross_val = cross_validate(\n",
        "    estimator = base_model,\n",
        "    X = wine.data, y=wine.target,\n",
        "    cv = 5)\n",
        "print('avg fit time: {} (+/- {})'.format(cross_val['fit_time'].mean(), cross_val['fit_time'].std()))\n",
        "print('avg score time: {} (+/- {})'.format(cross_val['score_time'].mean(), cross_val['score_time'].std()))\n",
        "print('avg test score: {} (+/- {})'.format(cross_val['test_score'].mean(), cross_val['test_score'].std()))"
      ],
      "execution_count": 52,
      "outputs": [
        {
          "output_type": "stream",
          "text": [
            "avg fit time: 0.14841384887695314 (+/- 0.006769827564950689)\n",
            "avg score time: 0.008529996871948243 (+/- 0.00045088541673817456)\n",
            "avg test score: 0.9663492063492063 (+/- 0.020705617598882967)\n"
          ],
          "name": "stdout"
        }
      ]
    },
    {
      "cell_type": "code",
      "metadata": {
        "colab": {
          "base_uri": "https://localhost:8080/"
        },
        "id": "fekoRxAhvObo",
        "outputId": "8267c2fa-5d9e-4997-da79-ff6399872992"
      },
      "source": [
        "cross_val = cross_validate(\n",
        "    estimator = base_model,\n",
        "    X = cancer.data, y=cancer.target,\n",
        "    cv = 5)\n",
        "print('avg fit time: {} (+/- {})'.format(cross_val['fit_time'].mean(), cross_val['fit_time'].std()))\n",
        "print('avg score time: {} (+/- {})'.format(cross_val['score_time'].mean(), cross_val['score_time'].std()))\n",
        "print('avg test score: {} (+/- {})'.format(cross_val['test_score'].mean(), cross_val['test_score'].std()))"
      ],
      "execution_count": 53,
      "outputs": [
        {
          "output_type": "stream",
          "text": [
            "avg fit time: 0.20457534790039061 (+/- 0.007742467535987192)\n",
            "avg score time: 0.009429740905761718 (+/- 0.000529614241374169)\n",
            "avg test score: 0.9631113181183046 (+/- 0.021749025602840658)\n"
          ],
          "name": "stdout"
        }
      ]
    },
    {
      "cell_type": "markdown",
      "metadata": {
        "id": "QDvHgBDEvObo"
      },
      "source": [
        "## Random Forest 회귀"
      ]
    },
    {
      "cell_type": "code",
      "metadata": {
        "id": "H2xDPvdfvObp"
      },
      "source": [
        "model = make_pipeline(\n",
        "StandardScaler(),\n",
        "RandomForestRegressor())"
      ],
      "execution_count": 54,
      "outputs": []
    },
    {
      "cell_type": "code",
      "metadata": {
        "colab": {
          "base_uri": "https://localhost:8080/"
        },
        "id": "aHn1eAaBvObp",
        "outputId": "a11a46d6-615a-462a-8ecd-d3af69962cd1"
      },
      "source": [
        "cross_val = cross_validate(\n",
        "    estimator = model,\n",
        "    X = boston.data, y=boston.target,\n",
        "    cv = 5)\n",
        "print('avg fit time: {} (+/- {})'.format(cross_val['fit_time'].mean(), cross_val['fit_time'].std()))\n",
        "print('avg score time: {} (+/- {})'.format(cross_val['score_time'].mean(), cross_val['score_time'].std()))\n",
        "print('avg test score: {} (+/- {})'.format(cross_val['test_score'].mean(), cross_val['test_score'].std()))"
      ],
      "execution_count": 55,
      "outputs": [
        {
          "output_type": "stream",
          "text": [
            "avg fit time: 0.3376143455505371 (+/- 0.010758009086337488)\n",
            "avg score time: 0.008361196517944336 (+/- 0.00036281779516041487)\n",
            "avg test score: 0.6309864884890652 (+/- 0.19934705126809335)\n"
          ],
          "name": "stdout"
        }
      ]
    },
    {
      "cell_type": "code",
      "metadata": {
        "colab": {
          "base_uri": "https://localhost:8080/"
        },
        "id": "bsr1Lt1NvObq",
        "outputId": "52e3bd67-a7c5-4e7a-a44c-ffbff1a54614"
      },
      "source": [
        "cross_val = cross_validate(\n",
        "    estimator = model,\n",
        "    X = diabetes.data, y=diabetes.target,\n",
        "    cv = 5)\n",
        "print('avg fit time: {} (+/- {})'.format(cross_val['fit_time'].mean(), cross_val['fit_time'].std()))\n",
        "print('avg score time: {} (+/- {})'.format(cross_val['score_time'].mean(), cross_val['score_time'].std()))\n",
        "print('avg test score: {} (+/- {})'.format(cross_val['test_score'].mean(), cross_val['test_score'].std()))"
      ],
      "execution_count": 56,
      "outputs": [
        {
          "output_type": "stream",
          "text": [
            "avg fit time: 0.2831474781036377 (+/- 0.006761520923714831)\n",
            "avg score time: 0.008350896835327148 (+/- 0.0002531173357447817)\n",
            "avg test score: 0.41369857747924355 (+/- 0.048793832069413776)\n"
          ],
          "name": "stdout"
        }
      ]
    },
    {
      "cell_type": "markdown",
      "metadata": {
        "id": "6upeyVLCvObq"
      },
      "source": [
        "## AdaBoost\n",
        "* 대표적인 부스팅 알고리즘\n",
        "* 일련의 약한 모델들을 학습\n",
        "* 수정된 버전의 데이터를 반복 학습(가중치가 적용된)\n",
        "* 가중치 투표(또는 합)을 통해 각 모델의 예측 값을 결합\n",
        "* 첫 단계에서는 원본 데이터를 학습하고 연속적인 반복마다 개별 샘플에 대한 가중치가 수정되고 다시 모델이 학습\n",
        "    + 잘못 예측된 샘플은 가중치 증가, 올바르게 예측된 샘플은 가중치 감소\n",
        "    + 각각의 약한 모델들은 예측하기 어려운 샘플에 집중하게 됨"
      ]
    },
    {
      "cell_type": "markdown",
      "metadata": {
        "id": "SfqX5kj3vObq"
      },
      "source": [
        "![image.png](attachment:image.png)"
      ]
    },
    {
      "cell_type": "code",
      "metadata": {
        "id": "QkmUu1qRvObq"
      },
      "source": [
        "from sklearn.ensemble import AdaBoostClassifier\n",
        "from sklearn.ensemble import AdaBoostRegressor"
      ],
      "execution_count": 57,
      "outputs": []
    },
    {
      "cell_type": "markdown",
      "metadata": {
        "id": "W70pLnJpvObr"
      },
      "source": [
        "## AdaBoost 분류"
      ]
    },
    {
      "cell_type": "code",
      "metadata": {
        "id": "C4eGRF3wvObr"
      },
      "source": [
        "model = make_pipeline(\n",
        "StandardScaler(),\n",
        "AdaBoostClassifier())"
      ],
      "execution_count": 58,
      "outputs": []
    },
    {
      "cell_type": "code",
      "metadata": {
        "colab": {
          "base_uri": "https://localhost:8080/"
        },
        "id": "wL4KnMG2vObr",
        "outputId": "5b2ac840-b05a-4235-a653-68d8232a0b84"
      },
      "source": [
        "cross_val = cross_validate(\n",
        "    estimator = model,\n",
        "    X = iris.data, y=iris.target,\n",
        "    cv = 5)\n",
        "print('avg fit time: {} (+/- {})'.format(cross_val['fit_time'].mean(), cross_val['fit_time'].std()))\n",
        "print('avg score time: {} (+/- {})'.format(cross_val['score_time'].mean(), cross_val['score_time'].std()))\n",
        "print('avg test score: {} (+/- {})'.format(cross_val['test_score'].mean(), cross_val['test_score'].std()))"
      ],
      "execution_count": 59,
      "outputs": [
        {
          "output_type": "stream",
          "text": [
            "avg fit time: 0.07613921165466309 (+/- 0.0034110567359253788)\n",
            "avg score time: 0.0068474292755126955 (+/- 0.0003156491056003601)\n",
            "avg test score: 0.9466666666666667 (+/- 0.03399346342395189)\n"
          ],
          "name": "stdout"
        }
      ]
    },
    {
      "cell_type": "code",
      "metadata": {
        "colab": {
          "base_uri": "https://localhost:8080/"
        },
        "id": "36OOlBy_vObs",
        "outputId": "7c872447-e63b-4600-acc6-9f7f2a5916ad"
      },
      "source": [
        "cross_val = cross_validate(\n",
        "    estimator = model,\n",
        "    X = wine.data, y=wine.target,\n",
        "    cv = 5)\n",
        "print('avg fit time: {} (+/- {})'.format(cross_val['fit_time'].mean(), cross_val['fit_time'].std()))\n",
        "print('avg score time: {} (+/- {})'.format(cross_val['score_time'].mean(), cross_val['score_time'].std()))\n",
        "print('avg test score: {} (+/- {})'.format(cross_val['test_score'].mean(), cross_val['test_score'].std()))"
      ],
      "execution_count": 60,
      "outputs": [
        {
          "output_type": "stream",
          "text": [
            "avg fit time: 0.088043212890625 (+/- 0.009530712009928811)\n",
            "avg score time: 0.00805816650390625 (+/- 0.0014554672243635477)\n",
            "avg test score: 0.8085714285714285 (+/- 0.16822356718459935)\n"
          ],
          "name": "stdout"
        }
      ]
    },
    {
      "cell_type": "code",
      "metadata": {
        "colab": {
          "base_uri": "https://localhost:8080/"
        },
        "id": "fXd1FUxQvObs",
        "outputId": "36887b60-7138-410a-b2a7-036d3a569361"
      },
      "source": [
        "cross_val = cross_validate(\n",
        "    estimator = model,\n",
        "    X = cancer.data, y=cancer.target,\n",
        "    cv = 5)\n",
        "print('avg fit time: {} (+/- {})'.format(cross_val['fit_time'].mean(), cross_val['fit_time'].std()))\n",
        "print('avg score time: {} (+/- {})'.format(cross_val['score_time'].mean(), cross_val['score_time'].std()))\n",
        "print('avg test score: {} (+/- {})'.format(cross_val['test_score'].mean(), cross_val['test_score'].std()))"
      ],
      "execution_count": 61,
      "outputs": [
        {
          "output_type": "stream",
          "text": [
            "avg fit time: 0.1733616828918457 (+/- 0.01066863336282834)\n",
            "avg score time: 0.009555435180664063 (+/- 0.003126536919127269)\n",
            "avg test score: 0.9718677224033534 (+/- 0.0195587047134823)\n"
          ],
          "name": "stdout"
        }
      ]
    },
    {
      "cell_type": "markdown",
      "metadata": {
        "id": "6VOep1DUvObs"
      },
      "source": [
        "## AdaBoost 회귀"
      ]
    },
    {
      "cell_type": "code",
      "metadata": {
        "id": "1RMpGjy5vObt"
      },
      "source": [
        "model = make_pipeline(\n",
        "StandardScaler(),\n",
        "AdaBoostRegressor())"
      ],
      "execution_count": 62,
      "outputs": []
    },
    {
      "cell_type": "code",
      "metadata": {
        "colab": {
          "base_uri": "https://localhost:8080/"
        },
        "id": "H8A79aNDvObt",
        "outputId": "eaa768bb-b792-4fb8-e6d1-10c248059f0c"
      },
      "source": [
        "cross_val = cross_validate(\n",
        "    estimator = model,\n",
        "    X = boston.data, y=boston.target,\n",
        "    cv = 5)\n",
        "print('avg fit time: {} (+/- {})'.format(cross_val['fit_time'].mean(), cross_val['fit_time'].std()))\n",
        "print('avg score time: {} (+/- {})'.format(cross_val['score_time'].mean(), cross_val['score_time'].std()))\n",
        "print('avg test score: {} (+/- {})'.format(cross_val['test_score'].mean(), cross_val['test_score'].std()))"
      ],
      "execution_count": 63,
      "outputs": [
        {
          "output_type": "stream",
          "text": [
            "avg fit time: 0.09982953071594239 (+/- 0.0050125905692893335)\n",
            "avg score time: 0.004819631576538086 (+/- 0.001186354463010263)\n",
            "avg test score: 0.5776907491497967 (+/- 0.22205633587208704)\n"
          ],
          "name": "stdout"
        }
      ]
    },
    {
      "cell_type": "code",
      "metadata": {
        "colab": {
          "base_uri": "https://localhost:8080/"
        },
        "id": "pffXGOSMvObu",
        "outputId": "b609b184-67c6-4980-aceb-c9cc28ba9418"
      },
      "source": [
        "cross_val = cross_validate(\n",
        "    estimator = model,\n",
        "    X = diabetes.data, y=diabetes.target,\n",
        "    cv = 5)\n",
        "print('avg fit time: {} (+/- {})'.format(cross_val['fit_time'].mean(), cross_val['fit_time'].std()))\n",
        "print('avg score time: {} (+/- {})'.format(cross_val['score_time'].mean(), cross_val['score_time'].std()))\n",
        "print('avg test score: {} (+/- {})'.format(cross_val['test_score'].mean(), cross_val['test_score'].std()))"
      ],
      "execution_count": 64,
      "outputs": [
        {
          "output_type": "stream",
          "text": [
            "avg fit time: 0.09480133056640624 (+/- 0.008713858552899467)\n",
            "avg score time: 0.004848766326904297 (+/- 0.00161999060861601)\n",
            "avg test score: 0.3912994545433489 (+/- 0.04337337445407076)\n"
          ],
          "name": "stdout"
        }
      ]
    },
    {
      "cell_type": "markdown",
      "metadata": {
        "id": "6NqOmPpbvObu"
      },
      "source": [
        "## Gradient Tree Boosting\n",
        "* 임의의 차별화 가능한 손실함수로 일반화한 부스팅 알고리즘\n",
        "* 웹 검색, 분류 및 회귀 등 다양한 분야에서 모두 사용 가능"
      ]
    },
    {
      "cell_type": "code",
      "metadata": {
        "id": "MfbCAvVCvObv"
      },
      "source": [
        "from sklearn.ensemble import GradientBoostingClassifier\n",
        "from sklearn.ensemble import GradientBoostingRegressor"
      ],
      "execution_count": 65,
      "outputs": []
    },
    {
      "cell_type": "markdown",
      "metadata": {
        "id": "0bwYxnnAvObv"
      },
      "source": [
        "## Gradient Tree Boosting 분류"
      ]
    },
    {
      "cell_type": "code",
      "metadata": {
        "id": "xXQUZmVGvObw"
      },
      "source": [
        "model = make_pipeline(\n",
        "StandardScaler(),\n",
        "GradientBoostingClassifier())"
      ],
      "execution_count": 66,
      "outputs": []
    },
    {
      "cell_type": "code",
      "metadata": {
        "colab": {
          "base_uri": "https://localhost:8080/"
        },
        "id": "Ych0mJN0vObx",
        "outputId": "bccf584d-4e97-4c35-9bc0-6866ce89dfd1"
      },
      "source": [
        "cross_val = cross_validate(\n",
        "    estimator = model,\n",
        "    X = iris.data, y=iris.target,\n",
        "    cv = 5)\n",
        "print('avg fit time: {} (+/- {})'.format(cross_val['fit_time'].mean(), cross_val['fit_time'].std()))\n",
        "print('avg score time: {} (+/- {})'.format(cross_val['score_time'].mean(), cross_val['score_time'].std()))\n",
        "print('avg test score: {} (+/- {})'.format(cross_val['test_score'].mean(), cross_val['test_score'].std()))"
      ],
      "execution_count": 67,
      "outputs": [
        {
          "output_type": "stream",
          "text": [
            "avg fit time: 0.19953312873840331 (+/- 0.017296368190782303)\n",
            "avg score time: 0.0010908126831054687 (+/- 7.210172031868262e-05)\n",
            "avg test score: 0.96 (+/- 0.024944382578492935)\n"
          ],
          "name": "stdout"
        }
      ]
    },
    {
      "cell_type": "code",
      "metadata": {
        "colab": {
          "base_uri": "https://localhost:8080/"
        },
        "id": "1VhM5RMivOby",
        "outputId": "cf30b55c-90dc-4aea-9ed9-4dca2712b650"
      },
      "source": [
        "cross_val = cross_validate(\n",
        "    estimator = model,\n",
        "    X = wine.data, y=wine.target,\n",
        "    cv = 5)\n",
        "print('avg fit time: {} (+/- {})'.format(cross_val['fit_time'].mean(), cross_val['fit_time'].std()))\n",
        "print('avg score time: {} (+/- {})'.format(cross_val['score_time'].mean(), cross_val['score_time'].std()))\n",
        "print('avg test score: {} (+/- {})'.format(cross_val['test_score'].mean(), cross_val['test_score'].std()))"
      ],
      "execution_count": 68,
      "outputs": [
        {
          "output_type": "stream",
          "text": [
            "avg fit time: 0.2457146167755127 (+/- 0.010742910717906383)\n",
            "avg score time: 0.0009769439697265626 (+/- 2.4645424354878377e-05)\n",
            "avg test score: 0.9330158730158731 (+/- 0.03296317528191366)\n"
          ],
          "name": "stdout"
        }
      ]
    },
    {
      "cell_type": "code",
      "metadata": {
        "colab": {
          "base_uri": "https://localhost:8080/"
        },
        "id": "zFhZ-NFdvObz",
        "outputId": "a67fed68-24d9-4e12-db44-a3b93f24b0b4"
      },
      "source": [
        "cross_val = cross_validate(\n",
        "    estimator = model,\n",
        "    X = cancer.data, y=cancer.target,\n",
        "    cv = 5)\n",
        "print('avg fit time: {} (+/- {})'.format(cross_val['fit_time'].mean(), cross_val['fit_time'].std()))\n",
        "print('avg score time: {} (+/- {})'.format(cross_val['score_time'].mean(), cross_val['score_time'].std()))\n",
        "print('avg test score: {} (+/- {})'.format(cross_val['test_score'].mean(), cross_val['test_score'].std()))"
      ],
      "execution_count": 69,
      "outputs": [
        {
          "output_type": "stream",
          "text": [
            "avg fit time: 0.4510918140411377 (+/- 0.00432529748313963)\n",
            "avg score time: 0.0010649204254150391 (+/- 3.2347207330389314e-05)\n",
            "avg test score: 0.9613724576929048 (+/- 0.022574828498321483)\n"
          ],
          "name": "stdout"
        }
      ]
    },
    {
      "cell_type": "markdown",
      "metadata": {
        "id": "Woa1CMHMvObz"
      },
      "source": [
        "## Gradient Tree Boosting 회귀"
      ]
    },
    {
      "cell_type": "code",
      "metadata": {
        "id": "Capts2xivOb0"
      },
      "source": [
        "model = make_pipeline(\n",
        "StandardScaler(),\n",
        "GradientBoostingRegressor())"
      ],
      "execution_count": 70,
      "outputs": []
    },
    {
      "cell_type": "code",
      "metadata": {
        "colab": {
          "base_uri": "https://localhost:8080/"
        },
        "id": "cBj8RDs9vOb0",
        "outputId": "04355961-722b-4900-d3e1-d183cea95800"
      },
      "source": [
        "cross_val = cross_validate(\n",
        "    estimator = model,\n",
        "    X = boston.data, y=boston.target,\n",
        "    cv = 5)\n",
        "print('avg fit time: {} (+/- {})'.format(cross_val['fit_time'].mean(), cross_val['fit_time'].std()))\n",
        "print('avg score time: {} (+/- {})'.format(cross_val['score_time'].mean(), cross_val['score_time'].std()))\n",
        "print('avg test score: {} (+/- {})'.format(cross_val['test_score'].mean(), cross_val['test_score'].std()))"
      ],
      "execution_count": 71,
      "outputs": [
        {
          "output_type": "stream",
          "text": [
            "avg fit time: 0.12670326232910156 (+/- 0.00220746474579185)\n",
            "avg score time: 0.001115703582763672 (+/- 0.00016295044610214001)\n",
            "avg test score: 0.6734907303555262 (+/- 0.16757067728454228)\n"
          ],
          "name": "stdout"
        }
      ]
    },
    {
      "cell_type": "code",
      "metadata": {
        "colab": {
          "base_uri": "https://localhost:8080/"
        },
        "id": "U_5QAc4IvOb1",
        "outputId": "eb2199be-dd09-4837-870b-abdd47999c49"
      },
      "source": [
        "cross_val = cross_validate(\n",
        "    estimator = model,\n",
        "    X = diabetes.data, y=diabetes.target,\n",
        "    cv = 5)\n",
        "print('avg fit time: {} (+/- {})'.format(cross_val['fit_time'].mean(), cross_val['fit_time'].std()))\n",
        "print('avg score time: {} (+/- {})'.format(cross_val['score_time'].mean(), cross_val['score_time'].std()))\n",
        "print('avg test score: {} (+/- {})'.format(cross_val['test_score'].mean(), cross_val['test_score'].std()))"
      ],
      "execution_count": 72,
      "outputs": [
        {
          "output_type": "stream",
          "text": [
            "avg fit time: 0.09927129745483398 (+/- 0.004682475476089631)\n",
            "avg score time: 0.0011170864105224609 (+/- 3.921984901544104e-05)\n",
            "avg test score: 0.40575807348942095 (+/- 0.0693021998770823)\n"
          ],
          "name": "stdout"
        }
      ]
    },
    {
      "cell_type": "markdown",
      "metadata": {
        "id": "7IglbMg2vOb1"
      },
      "source": [
        "## 투표 기반 모델(Voting Classifier)"
      ]
    },
    {
      "cell_type": "markdown",
      "metadata": {
        "id": "IgR1EqU2vOb2"
      },
      "source": [
        "* 서로 다른 모델들의 결과를 투표를 통해 결합\n",
        "* 두가지 방법으로 투표 가능\n",
        "    + 가장 많이 예측된 클래스를 정답으로 채택(hard voting)\n",
        "    + 예측된 확률의 가중치 평균(soft voting)"
      ]
    },
    {
      "cell_type": "code",
      "metadata": {
        "id": "EhONABeivOb3"
      },
      "source": [
        "from sklearn.svm import SVC\n",
        "from sklearn.naive_bayes import GaussianNB\n",
        "from sklearn.ensemble import RandomForestClassifier\n",
        "from sklearn.ensemble import VotingClassifier\n",
        "from sklearn.model_selection import cross_val_score\n",
        "\n",
        "import warnings\n",
        "warnings.filterwarnings(action='ignore') # 에러 메시지 안 뜨게 하기 위함"
      ],
      "execution_count": 73,
      "outputs": []
    },
    {
      "cell_type": "markdown",
      "metadata": {
        "id": "2zvQPFm7vOb4"
      },
      "source": [
        "## Hard Voting"
      ]
    },
    {
      "cell_type": "code",
      "metadata": {
        "id": "uAOIctEIvOb4"
      },
      "source": [
        "model1 = SVC()\n",
        "model2 = GaussianNB()\n",
        "model3 = RandomForestClassifier()\n",
        "# 각기 다른 알고리즘을 가진 모델을 이용해 투표 기반 모델 만듬\n",
        "vote_model = VotingClassifier(\n",
        "estimators = [('svc', model1), ('naive', model2), ('forest', model3)], # ('추정기 이름', 추정기)의 모음\n",
        "voting = 'hard') # voting 속성으로 hard와 soft 지정\n"
      ],
      "execution_count": 74,
      "outputs": []
    },
    {
      "cell_type": "code",
      "metadata": {
        "colab": {
          "base_uri": "https://localhost:8080/"
        },
        "id": "OK9COpejvOb5",
        "outputId": "f809e798-4f4f-452e-add4-73f3657eba09"
      },
      "source": [
        "for model in (model1, model2, model3, vote_model):\n",
        "    model_name = str(type(model)).split('.')[-1][:-2]\n",
        "    scores = cross_val_score(model, iris.data, iris.target, cv=5)\n",
        "    print('Accuracy: %0.2f [%s]' %(scores.mean(), model_name))\n",
        "     "
      ],
      "execution_count": 75,
      "outputs": [
        {
          "output_type": "stream",
          "text": [
            "Accuracy: 0.97 [SVC]\n",
            "Accuracy: 0.95 [GaussianNB]\n",
            "Accuracy: 0.97 [RandomForestClassifier]\n",
            "Accuracy: 0.97 [VotingClassifier]\n"
          ],
          "name": "stdout"
        }
      ]
    },
    {
      "cell_type": "markdown",
      "metadata": {
        "id": "fopSkatovOb5"
      },
      "source": [
        "## Soft Voting"
      ]
    },
    {
      "cell_type": "code",
      "metadata": {
        "id": "mg1S1uumvOb5"
      },
      "source": [
        "model1 = SVC(probability=True)\n",
        "model2 = GaussianNB()\n",
        "model3 = RandomForestClassifier()\n",
        "vote_model = VotingClassifier(\n",
        "estimators = [('svc', model1), ('naive', model2), ('forest', model3)],\n",
        "voting = 'soft',\n",
        "weights=[2,1,2]) # weights 가중치 (estimators에 하나씩 해당)"
      ],
      "execution_count": 76,
      "outputs": []
    },
    {
      "cell_type": "code",
      "metadata": {
        "colab": {
          "base_uri": "https://localhost:8080/"
        },
        "id": "frKoa97QvOb6",
        "outputId": "4c44a5ac-539c-465f-ec3b-3a9d212e5908"
      },
      "source": [
        "for model in (model1, model2, model3, vote_model):\n",
        "    model_name = str(type(model)).split('.')[-1][:-2]\n",
        "    scores = cross_val_score(model, iris.data, iris.target, cv=5)\n",
        "    print('Accuracy: %0.2f [%s]' %(scores.mean(), model_name))"
      ],
      "execution_count": 77,
      "outputs": [
        {
          "output_type": "stream",
          "text": [
            "Accuracy: 0.97 [SVC]\n",
            "Accuracy: 0.95 [GaussianNB]\n",
            "Accuracy: 0.96 [RandomForestClassifier]\n",
            "Accuracy: 0.96 [VotingClassifier]\n"
          ],
          "name": "stdout"
        }
      ]
    }
  ]
}
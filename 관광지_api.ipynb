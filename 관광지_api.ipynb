{
  "nbformat": 4,
  "nbformat_minor": 0,
  "metadata": {
    "kernelspec": {
      "display_name": "Python 3",
      "language": "python",
      "name": "python3"
    },
    "language_info": {
      "codemirror_mode": {
        "name": "ipython",
        "version": 3
      },
      "file_extension": ".py",
      "mimetype": "text/x-python",
      "name": "python",
      "nbconvert_exporter": "python",
      "pygments_lexer": "ipython3",
      "version": "3.7.6"
    },
    "colab": {
      "name": "관광지 api.ipynb",
      "provenance": [],
      "include_colab_link": true
    }
  },
  "cells": [
    {
      "cell_type": "markdown",
      "metadata": {
        "id": "view-in-github",
        "colab_type": "text"
      },
      "source": [
        "<a href=\"https://colab.research.google.com/github/jisu-h/DALC-Study-AI/blob/main/%EA%B4%80%EA%B4%91%EC%A7%80_api.ipynb\" target=\"_parent\"><img src=\"https://colab.research.google.com/assets/colab-badge.svg\" alt=\"Open In Colab\"/></a>"
      ]
    },
    {
      "cell_type": "code",
      "metadata": {
        "id": "Uvx8gKxyG7dj"
      },
      "source": [
        "import urllib\n",
        "import json\n",
        "\n",
        "import pandas as pd\n",
        "import requests"
      ],
      "execution_count": null,
      "outputs": []
    },
    {
      "cell_type": "code",
      "metadata": {
        "id": "-Dl78FXlG7dq",
        "outputId": "f7011e18-bf05-466a-ddae-4908689d6d80"
      },
      "source": [
        "your_appkey = 'r7trbpjt5rjc4p767trt67_po7jc75t_'\n",
        "startDate = '201001'\n",
        "endDate = '202107'\n",
        "\n",
        "api_url = []\n",
        "\n",
        "for i in range(1,8):\n",
        "    number = i\n",
        "    url = f'https://open.jejudatahub.net/api/proxy/bt11Daa5at1tat515DDtaa9D5aa99t11/{your_appkey}?startDate={startDate}&endDate={endDate}&number={number}&limit=100'\n",
        "    api_url.append(url)\n",
        "api_url"
      ],
      "execution_count": null,
      "outputs": [
        {
          "output_type": "execute_result",
          "data": {
            "text/plain": [
              "['https://open.jejudatahub.net/api/proxy/bt11Daa5at1tat515DDtaa9D5aa99t11/r7trbpjt5rjc4p767trt67_po7jc75t_?startDate=201001&endDate=202107&number=1&limit=100',\n",
              " 'https://open.jejudatahub.net/api/proxy/bt11Daa5at1tat515DDtaa9D5aa99t11/r7trbpjt5rjc4p767trt67_po7jc75t_?startDate=201001&endDate=202107&number=2&limit=100',\n",
              " 'https://open.jejudatahub.net/api/proxy/bt11Daa5at1tat515DDtaa9D5aa99t11/r7trbpjt5rjc4p767trt67_po7jc75t_?startDate=201001&endDate=202107&number=3&limit=100',\n",
              " 'https://open.jejudatahub.net/api/proxy/bt11Daa5at1tat515DDtaa9D5aa99t11/r7trbpjt5rjc4p767trt67_po7jc75t_?startDate=201001&endDate=202107&number=4&limit=100',\n",
              " 'https://open.jejudatahub.net/api/proxy/bt11Daa5at1tat515DDtaa9D5aa99t11/r7trbpjt5rjc4p767trt67_po7jc75t_?startDate=201001&endDate=202107&number=5&limit=100',\n",
              " 'https://open.jejudatahub.net/api/proxy/bt11Daa5at1tat515DDtaa9D5aa99t11/r7trbpjt5rjc4p767trt67_po7jc75t_?startDate=201001&endDate=202107&number=6&limit=100',\n",
              " 'https://open.jejudatahub.net/api/proxy/bt11Daa5at1tat515DDtaa9D5aa99t11/r7trbpjt5rjc4p767trt67_po7jc75t_?startDate=201001&endDate=202107&number=7&limit=100']"
            ]
          },
          "metadata": {
            "tags": []
          },
          "execution_count": 58
        }
      ]
    },
    {
      "cell_type": "code",
      "metadata": {
        "id": "5o0o52wuG7du",
        "outputId": "f454a016-57ea-46c0-9d74-141371fa9e3d"
      },
      "source": [
        "weburl = urllib.request.urlopen(api_url[0])\n",
        "data = json.loads(weburl.read())\n",
        "len(data['data'])"
      ],
      "execution_count": null,
      "outputs": [
        {
          "output_type": "execute_result",
          "data": {
            "text/plain": [
              "100"
            ]
          },
          "metadata": {
            "tags": []
          },
          "execution_count": 59
        }
      ]
    },
    {
      "cell_type": "code",
      "metadata": {
        "id": "pOE6mKo8G7dv"
      },
      "source": [
        "sight_df = pd.DataFrame()\n",
        "sight_df_temp = pd.DataFrame()"
      ],
      "execution_count": null,
      "outputs": []
    },
    {
      "cell_type": "code",
      "metadata": {
        "id": "Wk1i93O0G7dw",
        "outputId": "5d1ea155-72ab-4a3f-ec36-214e9998796b"
      },
      "source": [
        "sight_df_temp = sight_df.append({\"dtYearMonth\":\"\",\n",
        "                                \"sightsName\":\"\",\n",
        "                                \"payType\":\"\",\n",
        "                                \"userCnt\":\"\"},\n",
        "                               ignore_index = True)\n",
        "sight_df"
      ],
      "execution_count": null,
      "outputs": [
        {
          "output_type": "execute_result",
          "data": {
            "text/html": [
              "<div>\n",
              "<style scoped>\n",
              "    .dataframe tbody tr th:only-of-type {\n",
              "        vertical-align: middle;\n",
              "    }\n",
              "\n",
              "    .dataframe tbody tr th {\n",
              "        vertical-align: top;\n",
              "    }\n",
              "\n",
              "    .dataframe thead th {\n",
              "        text-align: right;\n",
              "    }\n",
              "</style>\n",
              "<table border=\"1\" class=\"dataframe\">\n",
              "  <thead>\n",
              "    <tr style=\"text-align: right;\">\n",
              "      <th></th>\n",
              "    </tr>\n",
              "  </thead>\n",
              "  <tbody>\n",
              "  </tbody>\n",
              "</table>\n",
              "</div>"
            ],
            "text/plain": [
              "Empty DataFrame\n",
              "Columns: []\n",
              "Index: []"
            ]
          },
          "metadata": {
            "tags": []
          },
          "execution_count": 61
        }
      ]
    },
    {
      "cell_type": "code",
      "metadata": {
        "id": "WX3WPH8IG7dy",
        "outputId": "02d905d9-aedc-4250-e46c-6b6532f93d17"
      },
      "source": [
        "sight_df_temp"
      ],
      "execution_count": null,
      "outputs": [
        {
          "output_type": "execute_result",
          "data": {
            "text/html": [
              "<div>\n",
              "<style scoped>\n",
              "    .dataframe tbody tr th:only-of-type {\n",
              "        vertical-align: middle;\n",
              "    }\n",
              "\n",
              "    .dataframe tbody tr th {\n",
              "        vertical-align: top;\n",
              "    }\n",
              "\n",
              "    .dataframe thead th {\n",
              "        text-align: right;\n",
              "    }\n",
              "</style>\n",
              "<table border=\"1\" class=\"dataframe\">\n",
              "  <thead>\n",
              "    <tr style=\"text-align: right;\">\n",
              "      <th></th>\n",
              "      <th>dtYearMonth</th>\n",
              "      <th>payType</th>\n",
              "      <th>sightsName</th>\n",
              "      <th>userCnt</th>\n",
              "    </tr>\n",
              "  </thead>\n",
              "  <tbody>\n",
              "    <tr>\n",
              "      <th>0</th>\n",
              "      <td></td>\n",
              "      <td></td>\n",
              "      <td></td>\n",
              "      <td></td>\n",
              "    </tr>\n",
              "  </tbody>\n",
              "</table>\n",
              "</div>"
            ],
            "text/plain": [
              "  dtYearMonth payType sightsName userCnt\n",
              "0                                       "
            ]
          },
          "metadata": {
            "tags": []
          },
          "execution_count": 62
        }
      ]
    },
    {
      "cell_type": "code",
      "metadata": {
        "id": "UCbWbOhnG7dz"
      },
      "source": [
        "idx = sight_df_temp.columns\n",
        "\n",
        "for url in api_url :\n",
        "    weburl = urllib.request.urlopen(url)\n",
        "    data = json.loads(weburl.read())\n",
        "    \n",
        "    for n in range(0,len(data['data'])):\n",
        "        for i in idx :\n",
        "            sight_df_temp.iat[0,sight_df_temp.columns.get_loc(i)] = data[\"data\"][n][i]\n",
        "        \n",
        "        sight_df = sight_df.append(sight_df_temp, ignore_index = True)"
      ],
      "execution_count": null,
      "outputs": []
    },
    {
      "cell_type": "code",
      "metadata": {
        "id": "NdPRwcpRG7dz",
        "outputId": "4f73c216-c9ce-4813-d5ba-89b79d1351af"
      },
      "source": [
        "sight_df"
      ],
      "execution_count": null,
      "outputs": [
        {
          "output_type": "execute_result",
          "data": {
            "text/html": [
              "<div>\n",
              "<style scoped>\n",
              "    .dataframe tbody tr th:only-of-type {\n",
              "        vertical-align: middle;\n",
              "    }\n",
              "\n",
              "    .dataframe tbody tr th {\n",
              "        vertical-align: top;\n",
              "    }\n",
              "\n",
              "    .dataframe thead th {\n",
              "        text-align: right;\n",
              "    }\n",
              "</style>\n",
              "<table border=\"1\" class=\"dataframe\">\n",
              "  <thead>\n",
              "    <tr style=\"text-align: right;\">\n",
              "      <th></th>\n",
              "      <th>dtYearMonth</th>\n",
              "      <th>payType</th>\n",
              "      <th>sightsName</th>\n",
              "      <th>userCnt</th>\n",
              "    </tr>\n",
              "  </thead>\n",
              "  <tbody>\n",
              "    <tr>\n",
              "      <th>0</th>\n",
              "      <td>201805</td>\n",
              "      <td>유료</td>\n",
              "      <td>도립미술관</td>\n",
              "      <td>7958</td>\n",
              "    </tr>\n",
              "    <tr>\n",
              "      <th>1</th>\n",
              "      <td>201905</td>\n",
              "      <td>유료</td>\n",
              "      <td>도립미술관</td>\n",
              "      <td>12042</td>\n",
              "    </tr>\n",
              "    <tr>\n",
              "      <th>2</th>\n",
              "      <td>201801</td>\n",
              "      <td>유료</td>\n",
              "      <td>만장굴관광지</td>\n",
              "      <td>44972</td>\n",
              "    </tr>\n",
              "    <tr>\n",
              "      <th>3</th>\n",
              "      <td>201803</td>\n",
              "      <td>유료</td>\n",
              "      <td>만장굴관광지</td>\n",
              "      <td>44845</td>\n",
              "    </tr>\n",
              "    <tr>\n",
              "      <th>4</th>\n",
              "      <td>201808</td>\n",
              "      <td>유료</td>\n",
              "      <td>만장굴관광지</td>\n",
              "      <td>115456</td>\n",
              "    </tr>\n",
              "    <tr>\n",
              "      <th>...</th>\n",
              "      <td>...</td>\n",
              "      <td>...</td>\n",
              "      <td>...</td>\n",
              "      <td>...</td>\n",
              "    </tr>\n",
              "    <tr>\n",
              "      <th>607</th>\n",
              "      <td>201906</td>\n",
              "      <td>유료</td>\n",
              "      <td>한화아쿠아플라넷제주</td>\n",
              "      <td>0</td>\n",
              "    </tr>\n",
              "    <tr>\n",
              "      <th>608</th>\n",
              "      <td>201805</td>\n",
              "      <td>무료</td>\n",
              "      <td>제주추사관</td>\n",
              "      <td>11801</td>\n",
              "    </tr>\n",
              "    <tr>\n",
              "      <th>609</th>\n",
              "      <td>201809</td>\n",
              "      <td>무료</td>\n",
              "      <td>제주추사관</td>\n",
              "      <td>8032</td>\n",
              "    </tr>\n",
              "    <tr>\n",
              "      <th>610</th>\n",
              "      <td>201811</td>\n",
              "      <td>무료</td>\n",
              "      <td>제주추사관</td>\n",
              "      <td>8748</td>\n",
              "    </tr>\n",
              "    <tr>\n",
              "      <th>611</th>\n",
              "      <td>201906</td>\n",
              "      <td>무료</td>\n",
              "      <td>제주추사관</td>\n",
              "      <td>0</td>\n",
              "    </tr>\n",
              "  </tbody>\n",
              "</table>\n",
              "<p>612 rows × 4 columns</p>\n",
              "</div>"
            ],
            "text/plain": [
              "    dtYearMonth payType  sightsName userCnt\n",
              "0        201805      유료       도립미술관    7958\n",
              "1        201905      유료       도립미술관   12042\n",
              "2        201801      유료      만장굴관광지   44972\n",
              "3        201803      유료      만장굴관광지   44845\n",
              "4        201808      유료      만장굴관광지  115456\n",
              "..          ...     ...         ...     ...\n",
              "607      201906      유료  한화아쿠아플라넷제주       0\n",
              "608      201805      무료       제주추사관   11801\n",
              "609      201809      무료       제주추사관    8032\n",
              "610      201811      무료       제주추사관    8748\n",
              "611      201906      무료       제주추사관       0\n",
              "\n",
              "[612 rows x 4 columns]"
            ]
          },
          "metadata": {
            "tags": []
          },
          "execution_count": 64
        }
      ]
    },
    {
      "cell_type": "code",
      "metadata": {
        "id": "a48DphulG7d0"
      },
      "source": [
        "sight_df.to_csv(\"sight_df.csv\",index = False)"
      ],
      "execution_count": null,
      "outputs": []
    },
    {
      "cell_type": "code",
      "metadata": {
        "id": "MG5ZbIUzG7d1",
        "outputId": "f9f4a188-28ae-4da0-8450-08a7ed96a327"
      },
      "source": [
        "sight_df[\"sightsName\"].unique()"
      ],
      "execution_count": null,
      "outputs": [
        {
          "output_type": "execute_result",
          "data": {
            "text/plain": [
              "array(['도립미술관', '만장굴관광지', '민속자연사박물관', '비자림', '절물자연휴양림', '제주도립 김창열미술관',\n",
              "       '제주돌문화공원', '제주별빛누리공원', '해녀 박물관', '국립제주박물관', '삼양선사유적지', '제주항일기념관',\n",
              "       '한라산국립공원', '항몽 유적지', '감귤박물관', '기당미술관', '마라해양도립공원', '박물관은살아있다',\n",
              "       '산방산', '서귀포자연휴양림', '서복전시관', '성산일출봉', '이중섭미술관', '정방폭포',\n",
              "       '중문대포해안주상절리대', '천제연폭포', '천지연폭포', '카멜리아힐', '퍼시픽랜드', '한화아쿠아플라넷제주',\n",
              "       '제주추사관', '제주목관아지', '서귀포도립해양공원', '일출랜드'], dtype=object)"
            ]
          },
          "metadata": {
            "tags": []
          },
          "execution_count": 67
        }
      ]
    },
    {
      "cell_type": "code",
      "metadata": {
        "id": "TTgRVGgWG7d2",
        "outputId": "438180fc-7812-4f21-f736-77b37ea554a0"
      },
      "source": [
        "len(sight_df[\"sightsName\"].unique())"
      ],
      "execution_count": null,
      "outputs": [
        {
          "output_type": "execute_result",
          "data": {
            "text/plain": [
              "34"
            ]
          },
          "metadata": {
            "tags": []
          },
          "execution_count": 68
        }
      ]
    }
  ]
}